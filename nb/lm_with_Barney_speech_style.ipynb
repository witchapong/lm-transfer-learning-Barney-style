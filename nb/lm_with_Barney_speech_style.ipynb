{
 "cells": [
  {
   "cell_type": "code",
   "execution_count": 1,
   "metadata": {},
   "outputs": [],
   "source": [
    "from fastai import *\n",
    "from fastai.text import *\n",
    "from fastai.core import *\n",
    "import pandas as pd\n",
    "import numpy as np"
   ]
  },
  {
   "cell_type": "markdown",
   "metadata": {},
   "source": [
    "The barney_style.csv was prepared by webscraping the sub-title of all EP of the serie How I Met Your Mother and filtered only parts of Barney from <a href=\"http://transcripts.foreverdreaming.org/viewforum.php?f=177\">this link</a>.\n",
    "<br>Please refer to another notebook for the webscraping and data preparation."
   ]
  },
  {
   "cell_type": "code",
   "execution_count": 2,
   "metadata": {},
   "outputs": [],
   "source": [
    "df = pd.read_csv('../data/barney_style.csv')"
   ]
  },
  {
   "cell_type": "code",
   "execution_count": 3,
   "metadata": {},
   "outputs": [
    {
     "data": {
      "text/html": [
       "<div>\n",
       "<style scoped>\n",
       "    .dataframe tbody tr th:only-of-type {\n",
       "        vertical-align: middle;\n",
       "    }\n",
       "\n",
       "    .dataframe tbody tr th {\n",
       "        vertical-align: top;\n",
       "    }\n",
       "\n",
       "    .dataframe thead th {\n",
       "        text-align: right;\n",
       "    }\n",
       "</style>\n",
       "<table border=\"1\" class=\"dataframe\">\n",
       "  <thead>\n",
       "    <tr style=\"text-align: right;\">\n",
       "      <th></th>\n",
       "      <th>txt</th>\n",
       "    </tr>\n",
       "  </thead>\n",
       "  <tbody>\n",
       "    <tr>\n",
       "      <th>0</th>\n",
       "      <td>(on the phone) hey, so you know how I've alway...</td>\n",
       "    </tr>\n",
       "    <tr>\n",
       "      <th>1</th>\n",
       "      <td>Okay, meet me at the bar in fifteen minutes, a...</td>\n",
       "    </tr>\n",
       "    <tr>\n",
       "      <th>2</th>\n",
       "      <td>Where's your suit!? Just once when I say suit ...</td>\n",
       "    </tr>\n",
       "    <tr>\n",
       "      <th>3</th>\n",
       "      <td>It was a blazer!</td>\n",
       "    </tr>\n",
       "    <tr>\n",
       "      <th>4</th>\n",
       "      <td>I see what this is about. Have you forgotten w...</td>\n",
       "    </tr>\n",
       "  </tbody>\n",
       "</table>\n",
       "</div>"
      ],
      "text/plain": [
       "                                                 txt\n",
       "0  (on the phone) hey, so you know how I've alway...\n",
       "1  Okay, meet me at the bar in fifteen minutes, a...\n",
       "2  Where's your suit!? Just once when I say suit ...\n",
       "3                                   It was a blazer!\n",
       "4  I see what this is about. Have you forgotten w..."
      ]
     },
     "execution_count": 3,
     "metadata": {},
     "output_type": "execute_result"
    }
   ],
   "source": [
    "df.head()"
   ]
  },
  {
   "cell_type": "code",
   "execution_count": 4,
   "metadata": {},
   "outputs": [],
   "source": [
    "valid_pct = 0.15 #validation percent\n",
    "df = df.iloc[np.random.permutation(len(df))]\n",
    "cut = int(valid_pct * len(df)) + 1\n",
    "train_df, valid_df = df[cut:], df[:cut]"
   ]
  },
  {
   "cell_type": "code",
   "execution_count": 5,
   "metadata": {},
   "outputs": [],
   "source": [
    "data_lm = TextLMDataBunch.from_df('data', train_df, valid_df, text_cols='txt')"
   ]
  },
  {
   "cell_type": "markdown",
   "metadata": {},
   "source": [
    "<h2>With pretrained</h2>"
   ]
  },
  {
   "cell_type": "code",
   "execution_count": 7,
   "metadata": {},
   "outputs": [
    {
     "data": {
      "text/html": [
       "Total time: 00:06 <p><table style='width:300px; margin-bottom:10px'>\n",
       "  <tr>\n",
       "    <th>epoch</th>\n",
       "    <th>train_loss</th>\n",
       "    <th>valid_loss</th>\n",
       "    <th>accuracy</th>\n",
       "  </tr>\n",
       "  <tr>\n",
       "    <th>1</th>\n",
       "    <th>5.526078</th>\n",
       "    <th>4.896950</th>\n",
       "    <th>0.195713</th>\n",
       "  </tr>\n",
       "</table>\n"
      ],
      "text/plain": [
       "<IPython.core.display.HTML object>"
      ]
     },
     "metadata": {},
     "output_type": "display_data"
    }
   ],
   "source": [
    "learn = language_model_learner(data_lm, pretrained_model=URLs.WT103, drop_mult=0.5)\n",
    "learn.fit_one_cycle(1, 1e-2)"
   ]
  },
  {
   "cell_type": "code",
   "execution_count": 8,
   "metadata": {},
   "outputs": [
    {
     "data": {
      "text/html": [
       "Total time: 00:08 <p><table style='width:300px; margin-bottom:10px'>\n",
       "  <tr>\n",
       "    <th>epoch</th>\n",
       "    <th>train_loss</th>\n",
       "    <th>valid_loss</th>\n",
       "    <th>accuracy</th>\n",
       "  </tr>\n",
       "  <tr>\n",
       "    <th>1</th>\n",
       "    <th>4.600121</th>\n",
       "    <th>3.941047</th>\n",
       "    <th>0.274016</th>\n",
       "  </tr>\n",
       "</table>\n"
      ],
      "text/plain": [
       "<IPython.core.display.HTML object>"
      ]
     },
     "metadata": {},
     "output_type": "display_data"
    }
   ],
   "source": [
    "learn.unfreeze()\n",
    "learn.fit_one_cycle(1, 1e-3)"
   ]
  },
  {
   "cell_type": "code",
   "execution_count": 9,
   "metadata": {},
   "outputs": [],
   "source": [
    "wd=1e-7\n",
    "lr=1e-3\n",
    "lrs = lr"
   ]
  },
  {
   "cell_type": "code",
   "execution_count": 10,
   "metadata": {},
   "outputs": [
    {
     "data": {
      "text/html": [
       "Total time: 02:02 <p><table style='width:300px; margin-bottom:10px'>\n",
       "  <tr>\n",
       "    <th>epoch</th>\n",
       "    <th>train_loss</th>\n",
       "    <th>valid_loss</th>\n",
       "    <th>accuracy</th>\n",
       "  </tr>\n",
       "  <tr>\n",
       "    <th>1</th>\n",
       "    <th>3.943179</th>\n",
       "    <th>3.554131</th>\n",
       "    <th>0.296676</th>\n",
       "  </tr>\n",
       "  <tr>\n",
       "    <th>2</th>\n",
       "    <th>3.778021</th>\n",
       "    <th>3.438763</th>\n",
       "    <th>0.296151</th>\n",
       "  </tr>\n",
       "  <tr>\n",
       "    <th>3</th>\n",
       "    <th>3.650821</th>\n",
       "    <th>3.369596</th>\n",
       "    <th>0.306381</th>\n",
       "  </tr>\n",
       "  <tr>\n",
       "    <th>4</th>\n",
       "    <th>3.547195</th>\n",
       "    <th>3.330213</th>\n",
       "    <th>0.313692</th>\n",
       "  </tr>\n",
       "  <tr>\n",
       "    <th>5</th>\n",
       "    <th>3.462643</th>\n",
       "    <th>3.292361</th>\n",
       "    <th>0.316873</th>\n",
       "  </tr>\n",
       "  <tr>\n",
       "    <th>6</th>\n",
       "    <th>3.389879</th>\n",
       "    <th>3.268069</th>\n",
       "    <th>0.323291</th>\n",
       "  </tr>\n",
       "  <tr>\n",
       "    <th>7</th>\n",
       "    <th>3.322060</th>\n",
       "    <th>3.253268</th>\n",
       "    <th>0.323741</th>\n",
       "  </tr>\n",
       "  <tr>\n",
       "    <th>8</th>\n",
       "    <th>3.255729</th>\n",
       "    <th>3.245859</th>\n",
       "    <th>0.323099</th>\n",
       "  </tr>\n",
       "  <tr>\n",
       "    <th>9</th>\n",
       "    <th>3.196164</th>\n",
       "    <th>3.239861</th>\n",
       "    <th>0.325306</th>\n",
       "  </tr>\n",
       "  <tr>\n",
       "    <th>10</th>\n",
       "    <th>3.136455</th>\n",
       "    <th>3.232873</th>\n",
       "    <th>0.326872</th>\n",
       "  </tr>\n",
       "  <tr>\n",
       "    <th>11</th>\n",
       "    <th>3.073035</th>\n",
       "    <th>3.236737</th>\n",
       "    <th>0.325667</th>\n",
       "  </tr>\n",
       "  <tr>\n",
       "    <th>12</th>\n",
       "    <th>3.020971</th>\n",
       "    <th>3.226182</th>\n",
       "    <th>0.330449</th>\n",
       "  </tr>\n",
       "  <tr>\n",
       "    <th>13</th>\n",
       "    <th>2.962561</th>\n",
       "    <th>3.248445</th>\n",
       "    <th>0.325395</th>\n",
       "  </tr>\n",
       "  <tr>\n",
       "    <th>14</th>\n",
       "    <th>2.906508</th>\n",
       "    <th>3.250981</th>\n",
       "    <th>0.327297</th>\n",
       "  </tr>\n",
       "  <tr>\n",
       "    <th>15</th>\n",
       "    <th>2.851015</th>\n",
       "    <th>3.258632</th>\n",
       "    <th>0.327798</th>\n",
       "  </tr>\n",
       "</table>\n"
      ],
      "text/plain": [
       "<IPython.core.display.HTML object>"
      ]
     },
     "metadata": {},
     "output_type": "display_data"
    }
   ],
   "source": [
    "learn.fit(15,lrs, wd)"
   ]
  },
  {
   "cell_type": "markdown",
   "metadata": {},
   "source": [
    "Generate example texts"
   ]
  },
  {
   "cell_type": "code",
   "execution_count": 13,
   "metadata": {},
   "outputs": [
    {
     "name": "stderr",
     "output_type": "stream",
     "text": [
      "100%|██████████| 30/30 [01:51<00:00,  3.69s/it]\n"
     ]
    }
   ],
   "source": [
    "from tqdm import trange\n",
    "n = 30\n",
    "speeches_w_pre = []\n",
    "\n",
    "for i in trange(n):\n",
    "    speeches_w_pre.append(learn.predict(\"xxbos xxfld 1\", n_words=50, temperature=0.8).replace(\"xxbos\",\"\").replace(\"xxmaj\",\"\")\\\n",
    ".replace(\"xxfld\",\"\").replace(\"1\",\"\").replace(\"xxup\",\"\"))"
   ]
  },
  {
   "cell_type": "code",
   "execution_count": 21,
   "metadata": {},
   "outputs": [],
   "source": [
    "pretrained_df = pd.DataFrame({'txt':speeches_w_pre})\n",
    "pretrained_df.to_csv('pretrained.csv',index=False)"
   ]
  },
  {
   "cell_type": "markdown",
   "metadata": {},
   "source": [
    "<h2>Without pretrained</h2>"
   ]
  },
  {
   "cell_type": "code",
   "execution_count": 12,
   "metadata": {},
   "outputs": [],
   "source": [
    "learn = language_model_learner(data_lm, bptt = 70, emb_sz = 400, nh = 1150, nl = 3,\n",
    "                                  drop_mult = 0.5, bias = False, qrnn = False, \n",
    "                                  alpha=2, beta = 1, \n",
    "                                  pretrained_fnames = None)"
   ]
  },
  {
   "cell_type": "code",
   "execution_count": 13,
   "metadata": {},
   "outputs": [
    {
     "data": {
      "text/html": [
       "Total time: 02:05 <p><table style='width:300px; margin-bottom:10px'>\n",
       "  <tr>\n",
       "    <th>epoch</th>\n",
       "    <th>train_loss</th>\n",
       "    <th>valid_loss</th>\n",
       "    <th>accuracy</th>\n",
       "  </tr>\n",
       "  <tr>\n",
       "    <th>1</th>\n",
       "    <th>6.547472</th>\n",
       "    <th>5.116069</th>\n",
       "    <th>0.118082</th>\n",
       "  </tr>\n",
       "  <tr>\n",
       "    <th>2</th>\n",
       "    <th>5.658830</th>\n",
       "    <th>4.897634</th>\n",
       "    <th>0.117916</th>\n",
       "  </tr>\n",
       "  <tr>\n",
       "    <th>3</th>\n",
       "    <th>5.276206</th>\n",
       "    <th>4.520227</th>\n",
       "    <th>0.182300</th>\n",
       "  </tr>\n",
       "  <tr>\n",
       "    <th>4</th>\n",
       "    <th>4.993814</th>\n",
       "    <th>4.401872</th>\n",
       "    <th>0.214932</th>\n",
       "  </tr>\n",
       "  <tr>\n",
       "    <th>5</th>\n",
       "    <th>4.780506</th>\n",
       "    <th>4.253617</th>\n",
       "    <th>0.226896</th>\n",
       "  </tr>\n",
       "  <tr>\n",
       "    <th>6</th>\n",
       "    <th>4.610217</th>\n",
       "    <th>4.152420</th>\n",
       "    <th>0.227628</th>\n",
       "  </tr>\n",
       "  <tr>\n",
       "    <th>7</th>\n",
       "    <th>4.471513</th>\n",
       "    <th>4.068677</th>\n",
       "    <th>0.240415</th>\n",
       "  </tr>\n",
       "  <tr>\n",
       "    <th>8</th>\n",
       "    <th>4.344780</th>\n",
       "    <th>3.962299</th>\n",
       "    <th>0.255792</th>\n",
       "  </tr>\n",
       "  <tr>\n",
       "    <th>9</th>\n",
       "    <th>4.240228</th>\n",
       "    <th>3.908992</th>\n",
       "    <th>0.260157</th>\n",
       "  </tr>\n",
       "  <tr>\n",
       "    <th>10</th>\n",
       "    <th>4.156411</th>\n",
       "    <th>3.878998</th>\n",
       "    <th>0.260840</th>\n",
       "  </tr>\n",
       "  <tr>\n",
       "    <th>11</th>\n",
       "    <th>4.095292</th>\n",
       "    <th>3.844637</th>\n",
       "    <th>0.263345</th>\n",
       "  </tr>\n",
       "  <tr>\n",
       "    <th>12</th>\n",
       "    <th>4.044473</th>\n",
       "    <th>3.836286</th>\n",
       "    <th>0.268222</th>\n",
       "  </tr>\n",
       "  <tr>\n",
       "    <th>13</th>\n",
       "    <th>4.004564</th>\n",
       "    <th>3.828121</th>\n",
       "    <th>0.266259</th>\n",
       "  </tr>\n",
       "  <tr>\n",
       "    <th>14</th>\n",
       "    <th>3.976108</th>\n",
       "    <th>3.826249</th>\n",
       "    <th>0.269255</th>\n",
       "  </tr>\n",
       "  <tr>\n",
       "    <th>15</th>\n",
       "    <th>3.955159</th>\n",
       "    <th>3.823846</th>\n",
       "    <th>0.269410</th>\n",
       "  </tr>\n",
       "</table>\n"
      ],
      "text/plain": [
       "<IPython.core.display.HTML object>"
      ]
     },
     "metadata": {},
     "output_type": "display_data"
    }
   ],
   "source": [
    "learn.metrics = [accuracy]\n",
    "learn.opt_func = partial(optim.Adam, betas=(0.8, 0.99))\n",
    "\n",
    "lr = 1e-3\n",
    "wd = 1e-7\n",
    "learn.wd=wd\n",
    "\n",
    "learn.fit_one_cycle(cyc_len = 15, \n",
    "                    max_lr= lr,\n",
    "                    div_factor= 20,\n",
    "                    moms = (0.8, 0.7),\n",
    "                    pct_start = 0.1,\n",
    "                    wd = wd\n",
    "                   ) \n"
   ]
  },
  {
   "cell_type": "code",
   "execution_count": 14,
   "metadata": {},
   "outputs": [
    {
     "name": "stderr",
     "output_type": "stream",
     "text": [
      "100%|██████████| 30/30 [01:50<00:00,  3.70s/it]\n"
     ]
    }
   ],
   "source": [
    "n = 30\n",
    "speeches_wo_pre = []\n",
    "\n",
    "for i in trange(n):\n",
    "    speeches_wo_pre.append(learn.predict(\"xxbos xxfld 1\", n_words=50, temperature=0.8).replace(\"xxbos\",\"\").replace(\"xxmaj\",\"\")\\\n",
    ".replace(\"xxfld\",\"\").replace(\"1\",\"\").replace(\"xxup\",\"\"))"
   ]
  },
  {
   "cell_type": "code",
   "execution_count": 16,
   "metadata": {},
   "outputs": [],
   "source": [
    "wo_pretrained_df = pd.DataFrame({'txt':speeches_wo_pre})\n",
    "wo_pretrained_df.to_csv('wo_pretrained.csv',index=False)"
   ]
  },
  {
   "cell_type": "code",
   "execution_count": 17,
   "metadata": {},
   "outputs": [],
   "source": [
    "# randomly pick 3 sentences from each\n",
    "#pretrained_df = pd.read_csv('pretrained.csv')"
   ]
  },
  {
   "cell_type": "code",
   "execution_count": 24,
   "metadata": {},
   "outputs": [
    {
     "name": "stdout",
     "output_type": "stream",
     "text": [
      "=====real text=====\n",
      "\n",
      "And I only stirred that with my pinky.\n",
      "\n",
      "Oh, Marshall, you only think you're happy. Just wait, because tonight, (imitating Oprah) is Barney's Favorite Things!\n",
      "\n",
      "This place in the Catskills. Look it up. I was there teaching for the summer.\n",
      "\n",
      "=====with pretrained=====\n",
      "\n",
      "   , it 's the road ?  just for you ,  wendy .   ted , i 'm ...   thanks .   it was not the end of a  black  this is the worst .   that 's it . i 'm\n",
      "\n",
      "   you 're gon na try to help people out there .  that 's when they 're talking about something ... (  ted picks up a girl and then laughing )  anyway , you 'll never forget why we 're not gon na play a game well .\n",
      "\n",
      "    ok , that 's the way it takes to settle down .   we 're doing this .   thank you ,  marshall .   ok !  marshall , i do n't want to see it !   oh , my  god\n",
      "\n",
      "=====without pretrained=====\n",
      "\n",
      "   .  okay , this 's 's a women .   plus , i they got the chinese .  he 're totally of in that .  hair them .   oh , here .  what ...  ted , i 'm ?   but\n",
      "\n",
      "   me .  mistake , like it about going .  that ... i 're n't across the 9 island ?   it 's not a back thing a matter to do n't get in with better .   there are my thirty to !  everyone later\n",
      "\n",
      "   t .  so , more , but i 'm .   she is not be right .  oh , i 'm .  that 's not a .   he stop 'm .  what , no .  this is are that .  oh\n",
      "\n"
     ]
    }
   ],
   "source": [
    "print('=====real text=====\\n')\n",
    "for txt in np.random.choice(df['txt'].values,3): print(txt+'\\n')\n",
    "print('=====with pretrained=====\\n')\n",
    "for txt in np.random.choice(pretrained_df['txt'].values,3): print(txt+'\\n')\n",
    "print('=====without pretrained=====\\n')\n",
    "for txt in np.random.choice(wo_pretrained_df['txt'].values,3):print(txt+'\\n')"
   ]
  }
 ],
 "metadata": {
  "kernelspec": {
   "display_name": "Python 3",
   "language": "python",
   "name": "python3"
  },
  "language_info": {
   "codemirror_mode": {
    "name": "ipython",
    "version": 3
   },
   "file_extension": ".py",
   "mimetype": "text/x-python",
   "name": "python",
   "nbconvert_exporter": "python",
   "pygments_lexer": "ipython3",
   "version": "3.6.7"
  }
 },
 "nbformat": 4,
 "nbformat_minor": 2
}
